{
 "cells": [
  {
   "cell_type": "code",
   "execution_count": 3,
   "metadata": {},
   "outputs": [
    {
     "data": {
      "text/plain": [
       "<Element 'annotation' at 0x000001C14A42F408>"
      ]
     },
     "execution_count": 3,
     "metadata": {},
     "output_type": "execute_result"
    }
   ],
   "source": [
    "import xml.etree.ElementTree as ET\n",
    "root = ET.parse('./char_detection/AP03TC9939.xml').getroot()\n",
    "root"
   ]
  },
  {
   "cell_type": "code",
   "execution_count": 4,
   "metadata": {},
   "outputs": [
    {
     "name": "stdout",
     "output_type": "stream",
     "text": [
      "folder {}\n",
      "filename {}\n",
      "path {}\n",
      "source {}\n",
      "size {}\n",
      "segmented {}\n",
      "object {}\n",
      "object {}\n",
      "object {}\n",
      "object {}\n",
      "object {}\n",
      "object {}\n",
      "object {}\n",
      "object {}\n",
      "object {}\n",
      "object {}\n"
     ]
    }
   ],
   "source": [
    "for child in root:\n",
    "    print(child.tag, child.attrib)"
   ]
  },
  {
   "cell_type": "code",
   "execution_count": 5,
   "metadata": {},
   "outputs": [
    {
     "data": {
      "text/plain": [
       "['annotation',\n",
       " 'folder',\n",
       " 'filename',\n",
       " 'path',\n",
       " 'source',\n",
       " 'database',\n",
       " 'size',\n",
       " 'width',\n",
       " 'height',\n",
       " 'depth',\n",
       " 'segmented',\n",
       " 'object',\n",
       " 'name',\n",
       " 'pose',\n",
       " 'truncated',\n",
       " 'difficult',\n",
       " 'bndbox',\n",
       " 'xmin',\n",
       " 'ymin',\n",
       " 'xmax',\n",
       " 'ymax',\n",
       " 'object',\n",
       " 'name',\n",
       " 'pose',\n",
       " 'truncated',\n",
       " 'difficult',\n",
       " 'bndbox',\n",
       " 'xmin',\n",
       " 'ymin',\n",
       " 'xmax',\n",
       " 'ymax',\n",
       " 'object',\n",
       " 'name',\n",
       " 'pose',\n",
       " 'truncated',\n",
       " 'difficult',\n",
       " 'bndbox',\n",
       " 'xmin',\n",
       " 'ymin',\n",
       " 'xmax',\n",
       " 'ymax',\n",
       " 'object',\n",
       " 'name',\n",
       " 'pose',\n",
       " 'truncated',\n",
       " 'difficult',\n",
       " 'bndbox',\n",
       " 'xmin',\n",
       " 'ymin',\n",
       " 'xmax',\n",
       " 'ymax',\n",
       " 'object',\n",
       " 'name',\n",
       " 'pose',\n",
       " 'truncated',\n",
       " 'difficult',\n",
       " 'bndbox',\n",
       " 'xmin',\n",
       " 'ymin',\n",
       " 'xmax',\n",
       " 'ymax',\n",
       " 'object',\n",
       " 'name',\n",
       " 'pose',\n",
       " 'truncated',\n",
       " 'difficult',\n",
       " 'bndbox',\n",
       " 'xmin',\n",
       " 'ymin',\n",
       " 'xmax',\n",
       " 'ymax',\n",
       " 'object',\n",
       " 'name',\n",
       " 'pose',\n",
       " 'truncated',\n",
       " 'difficult',\n",
       " 'bndbox',\n",
       " 'xmin',\n",
       " 'ymin',\n",
       " 'xmax',\n",
       " 'ymax',\n",
       " 'object',\n",
       " 'name',\n",
       " 'pose',\n",
       " 'truncated',\n",
       " 'difficult',\n",
       " 'bndbox',\n",
       " 'xmin',\n",
       " 'ymin',\n",
       " 'xmax',\n",
       " 'ymax',\n",
       " 'object',\n",
       " 'name',\n",
       " 'pose',\n",
       " 'truncated',\n",
       " 'difficult',\n",
       " 'bndbox',\n",
       " 'xmin',\n",
       " 'ymin',\n",
       " 'xmax',\n",
       " 'ymax',\n",
       " 'object',\n",
       " 'name',\n",
       " 'pose',\n",
       " 'truncated',\n",
       " 'difficult',\n",
       " 'bndbox',\n",
       " 'xmin',\n",
       " 'ymin',\n",
       " 'xmax',\n",
       " 'ymax']"
      ]
     },
     "execution_count": 5,
     "metadata": {},
     "output_type": "execute_result"
    }
   ],
   "source": [
    "[elem.tag for elem in root.iter()]"
   ]
  },
  {
   "cell_type": "code",
   "execution_count": 7,
   "metadata": {},
   "outputs": [
    {
     "name": "stdout",
     "output_type": "stream",
     "text": [
      "110\n",
      "139\n",
      "168\n",
      "197\n",
      "83\n",
      "114\n",
      "143\n",
      "172\n",
      "201\n",
      "229\n"
     ]
    }
   ],
   "source": [
    "for xmin in root.iter('xmin'):\n",
    "    print(xmin.text)"
   ]
  },
  {
   "cell_type": "code",
   "execution_count": 8,
   "metadata": {},
   "outputs": [
    {
     "name": "stdout",
     "output_type": "stream",
     "text": [
      "42\n",
      "40\n",
      "40\n",
      "37\n",
      "85\n",
      "84\n",
      "82\n",
      "81\n",
      "78\n",
      "76\n"
     ]
    }
   ],
   "source": [
    "for ymin in root.iter('ymin'):\n",
    "    print(ymin.text)"
   ]
  },
  {
   "cell_type": "code",
   "execution_count": 9,
   "metadata": {},
   "outputs": [
    {
     "name": "stdout",
     "output_type": "stream",
     "text": [
      "137\n",
      "167\n",
      "195\n",
      "224\n",
      "114\n",
      "142\n",
      "171\n",
      "199\n",
      "227\n",
      "254\n"
     ]
    }
   ],
   "source": [
    "for xmax in root.iter('xmax'):\n",
    "    print(xmax.text)"
   ]
  },
  {
   "cell_type": "code",
   "execution_count": 10,
   "metadata": {},
   "outputs": [
    {
     "name": "stdout",
     "output_type": "stream",
     "text": [
      "79\n",
      "78\n",
      "76\n",
      "73\n",
      "119\n",
      "119\n",
      "117\n",
      "115\n",
      "114\n",
      "111\n"
     ]
    }
   ],
   "source": [
    "for ymax in root.iter('ymax'):\n",
    "    print(ymax.text)"
   ]
  },
  {
   "cell_type": "code",
   "execution_count": 11,
   "metadata": {},
   "outputs": [],
   "source": [
    "## image"
   ]
  },
  {
   "cell_type": "code",
   "execution_count": 12,
   "metadata": {},
   "outputs": [],
   "source": [
    "from IPython.display import Image\n",
    "img=Image(filename='./char_detection/AP03TC9939.jpg') "
   ]
  },
  {
   "cell_type": "code",
   "execution_count": 13,
   "metadata": {},
   "outputs": [
    {
     "name": "stdout",
     "output_type": "stream",
     "text": [
      "<PixelAccess object at 0x000001C14A54CD90>\n"
     ]
    }
   ],
   "source": [
    "import os, sys\n",
    "from PIL import Image\n",
    "\n",
    "im = Image.open(\"./char_detection/AP03TC9939.jpg\")\n",
    "x = 110\n",
    "y = 30\n",
    "\n",
    "pix = im.load()\n",
    "print(pix)\n",
    "im.show()"
   ]
  },
  {
   "cell_type": "code",
   "execution_count": 22,
   "metadata": {},
   "outputs": [
    {
     "name": "stdout",
     "output_type": "stream",
     "text": [
      "Collecting Pillow\n",
      "  Downloading Pillow-7.1.2-cp38-cp38-manylinux1_x86_64.whl (2.1 MB)\n",
      "\u001b[K     |████████████████████████████████| 2.1 MB 268 kB/s eta 0:00:01\n",
      "\u001b[?25hInstalling collected packages: Pillow\n",
      "Successfully installed Pillow-7.1.2\n"
     ]
    }
   ],
   "source": [
    "!pip install Pillow"
   ]
  },
  {
   "cell_type": "code",
   "execution_count": 91,
   "metadata": {},
   "outputs": [],
   "source": [
    "#110, 42, 137, 79\n",
    "left = 110\n",
    "top = 79\n",
    "right = 137\n",
    "bottom = 116\n",
    "  \n",
    "# Cropped image of above dimension \n",
    "# (It will not change orginal image) \n",
    "im1 = im.crop((139,40,167,78)) \n",
    "\n",
    "# Shows the image in image viewer \n",
    "im1.show() "
   ]
  },
  {
   "cell_type": "code",
   "execution_count": 64,
   "metadata": {},
   "outputs": [],
   "source": [
    "110\n",
    "139\n",
    "168\n",
    "197\n",
    "83\n",
    "114\n",
    "143\n",
    "172\n",
    "201\n",
    "229\n",
    "\n",
    "42\n",
    "40\n",
    "40\n",
    "37\n",
    "85\n",
    "84\n",
    "82\n",
    "81\n",
    "78\n",
    "76\n",
    "\n",
    "137\n",
    "167\n",
    "195\n",
    "224\n",
    "114\n",
    "142\n",
    "171\n",
    "199\n",
    "227\n",
    "254\n",
    "\n",
    "79\n",
    "78\n",
    "76\n",
    "73\n",
    "119\n",
    "119\n",
    "117\n",
    "115\n",
    "114\n",
    "111"
   ]
  },
  {
   "cell_type": "code",
   "execution_count": 73,
   "metadata": {},
   "outputs": [
    {
     "name": "stdout",
     "output_type": "stream",
     "text": [
      "Collecting opencv-python\n",
      "  Downloading opencv_python-4.2.0.34-cp38-cp38-manylinux1_x86_64.whl (28.2 MB)\n",
      "\u001b[K     |████████████████████████████████| 28.2 MB 119 kB/s eta 0:00:01\n",
      "\u001b[?25hRequirement already satisfied: numpy>=1.17.3 in /home/prashu/.local/lib/python3.8/site-packages (from opencv-python) (1.18.4)\n",
      "Installing collected packages: opencv-python\n",
      "Successfully installed opencv-python-4.2.0.34\n"
     ]
    }
   ],
   "source": [
    "!pip install opencv-python"
   ]
  },
  {
   "cell_type": "code",
   "execution_count": 74,
   "metadata": {},
   "outputs": [
    {
     "name": "stdout",
     "output_type": "stream",
     "text": [
      "Collecting pytesseract\n",
      "  Downloading pytesseract-0.3.4.tar.gz (13 kB)\n",
      "Requirement already satisfied: Pillow in /home/prashu/anaconda3/envs/prashu/lib/python3.8/site-packages (from pytesseract) (7.1.2)\n",
      "Building wheels for collected packages: pytesseract\n",
      "  Building wheel for pytesseract (setup.py) ... \u001b[?25ldone\n",
      "\u001b[?25h  Created wheel for pytesseract: filename=pytesseract-0.3.4-py2.py3-none-any.whl size=13431 sha256=222a425cb0d2fb72f028163b0c6249ecbc9b3ae42101c6eaaaef7a27698ed0fc\n",
      "  Stored in directory: /home/prashu/.cache/pip/wheels/5e/48/64/518a6780b56aee06efa310fb23eaa144405b96429d13204e1e\n",
      "Successfully built pytesseract\n",
      "Installing collected packages: pytesseract\n",
      "Successfully installed pytesseract-0.3.4\n"
     ]
    }
   ],
   "source": [
    "!pip install pytesseract"
   ]
  },
  {
   "cell_type": "code",
   "execution_count": 76,
   "metadata": {},
   "outputs": [],
   "source": [
    "import cv2\n",
    "import pytesseract"
   ]
  },
  {
   "cell_type": "code",
   "execution_count": 94,
   "metadata": {},
   "outputs": [],
   "source": [
    "img=cv2.imread('AP03TC9939.jpg')\n",
    "text=pytesseract.image_to_string(img,lang='eng')\n",
    "gray = cv2.cvtColor(img, cv2.COLOR_RGB2GRAY)\n",
    "gray = cv2.bitwise_not(gray)"
   ]
  },
  {
   "cell_type": "code",
   "execution_count": 95,
   "metadata": {},
   "outputs": [
    {
     "name": "stdout",
     "output_type": "stream",
     "text": [
      "OUTPUT: \n"
     ]
    }
   ],
   "source": [
    "kernel = np.ones((2, 1), np.uint8)\n",
    "img = cv2.erode(img, kernel, iterations=1)\n",
    "img = cv2.dilate(img, kernel, iterations=1)\n",
    "out_below = pytesseract.image_to_string(img)\n",
    "print(\"OUTPUT:\", out_below)"
   ]
  },
  {
   "cell_type": "code",
   "execution_count": 93,
   "metadata": {},
   "outputs": [
    {
     "data": {
      "text/plain": [
       "''"
      ]
     },
     "execution_count": 93,
     "metadata": {},
     "output_type": "execute_result"
    }
   ],
   "source": [
    "text"
   ]
  }
 ],
 "metadata": {
  "kernelspec": {
   "display_name": "Python 3",
   "language": "python",
   "name": "python3"
  },
  "language_info": {
   "codemirror_mode": {
    "name": "ipython",
    "version": 3
   },
   "file_extension": ".py",
   "mimetype": "text/x-python",
   "name": "python",
   "nbconvert_exporter": "python",
   "pygments_lexer": "ipython3",
   "version": "3.7.3"
  }
 },
 "nbformat": 4,
 "nbformat_minor": 4
}
