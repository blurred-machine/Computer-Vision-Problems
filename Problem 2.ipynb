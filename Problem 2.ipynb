{
 "cells": [
  {
   "cell_type": "code",
   "execution_count": 1,
   "metadata": {},
   "outputs": [],
   "source": [
    "import xml.etree.ElementTree as ET \n",
    "import requests \n"
   ]
  },
  {
   "cell_type": "code",
   "execution_count": 2,
   "metadata": {},
   "outputs": [],
   "source": [
    "image_list = [\"./char_detection/AP03TC9939.xml\", \n",
    "              \"./char_detection/AP03TE2219.xml\",\n",
    "              \"./char_detection/AP04V5222-6.xml\",\n",
    "              \"./char_detection/AP35X9339-2.xml\",\n",
    "              \"./char_detection/JH12G9561-3.xml\"\n",
    "             ]"
   ]
  },
  {
   "cell_type": "code",
   "execution_count": 3,
   "metadata": {},
   "outputs": [],
   "source": [
    "def form_image_tree(img_path):\n",
    "    tree = ET.parse(img_path)\n",
    "    root = tree.getroot()\n",
    "    return root"
   ]
  },
  {
   "cell_type": "code",
   "execution_count": 4,
   "metadata": {},
   "outputs": [],
   "source": [
    "image_tree = []\n",
    "\n",
    "for img in image_list:\n",
    "    root = form_image_tree(img)\n",
    "    image_tree.append(root)\n",
    "    "
   ]
  },
  {
   "cell_type": "code",
   "execution_count": 5,
   "metadata": {},
   "outputs": [],
   "source": [
    "x_min=[]\n",
    "x_max=[]\n",
    "y_min=[]\n",
    "y_max=[]\n",
    "\n",
    "for xmin in root.iter('xmin'):\n",
    "    x_min.append(xmin.text)\n",
    "\n",
    "for xmax in root.iter('xmax'):\n",
    "    x_max.append(xmax.text)\n",
    "\n",
    "for ymin in root.iter('ymin'):\n",
    "    y_min.append(ymin.text)\n",
    "\n",
    "for ymax in root.iter('ymax'):\n",
    "    y_max.append(ymax.text) "
   ]
  },
  {
   "cell_type": "code",
   "execution_count": 6,
   "metadata": {},
   "outputs": [
    {
     "name": "stdout",
     "output_type": "stream",
     "text": [
      "X-min:  ['45', '84', '145', '174', '228', '38', '104', '168', '230']\n",
      "X-max:  ['82', '128', '174', '216', '276', '101', '164', '229', '277']\n",
      "Y-min:  ['28', '26', '24', '22', '18', '80', '75', '71', '70']\n",
      "Y-max:  ['70', '69', '64', '64', '61', '124', '124', '121', '121']\n"
     ]
    }
   ],
   "source": [
    "print('X-min: ', x_min)\n",
    "print('X-max: ', x_max)\n",
    "print('Y-min: ', y_min)\n",
    "print('Y-max: ', y_max)"
   ]
  },
  {
   "cell_type": "code",
   "execution_count": 7,
   "metadata": {},
   "outputs": [],
   "source": [
    "from IPython.display import Image\n",
    "img=Image(filename='./char_detection/AP03TC9939.jpg') "
   ]
  },
  {
   "cell_type": "code",
   "execution_count": null,
   "metadata": {},
   "outputs": [],
   "source": []
  }
 ],
 "metadata": {
  "kernelspec": {
   "display_name": "Python 3",
   "language": "python",
   "name": "python3"
  },
  "language_info": {
   "codemirror_mode": {
    "name": "ipython",
    "version": 3
   },
   "file_extension": ".py",
   "mimetype": "text/x-python",
   "name": "python",
   "nbconvert_exporter": "python",
   "pygments_lexer": "ipython3",
   "version": "3.7.3"
  }
 },
 "nbformat": 4,
 "nbformat_minor": 2
}
