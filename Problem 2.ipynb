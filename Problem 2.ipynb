{
 "cells": [
  {
   "cell_type": "code",
   "execution_count": 33,
   "metadata": {},
   "outputs": [],
   "source": [
    "import xml.etree.ElementTree as ET \n",
    "import requests \n",
    "import pytesseract as pt\n",
    "import cv2\n",
    "import numpy as np\n",
    "\n",
    "import os, sys\n",
    "from PIL import Image\n",
    "import io"
   ]
  },
  {
   "cell_type": "code",
   "execution_count": 34,
   "metadata": {},
   "outputs": [],
   "source": [
    "image_list = [\"./char_detection/AP03TC9939.xml\", \n",
    "              \"./char_detection/AP03TE2219.xml\",\n",
    "              \"./char_detection/AP04V5222-6.xml\",\n",
    "              \"./char_detection/AP35X9339-2.xml\",\n",
    "              \"./char_detection/JH12G9561-3.xml\"\n",
    "             ]"
   ]
  },
  {
   "cell_type": "code",
   "execution_count": 35,
   "metadata": {},
   "outputs": [],
   "source": [
    "def form_image_tree(img_path):\n",
    "    tree = ET.parse(img_path)\n",
    "    root = tree.getroot()\n",
    "    return root"
   ]
  },
  {
   "cell_type": "code",
   "execution_count": 36,
   "metadata": {},
   "outputs": [],
   "source": [
    "# image_tree = []\n",
    "\n",
    "# def form_tree(img):\n",
    "#     for img in image_list:\n",
    "#         root = form_image_tree(img)\n",
    "# #         image_tree.append(root)\n",
    "#         return root"
   ]
  },
  {
   "cell_type": "code",
   "execution_count": 37,
   "metadata": {},
   "outputs": [],
   "source": [
    "# form_tree(image_list)\n",
    "# print(image_tree)"
   ]
  },
  {
   "cell_type": "code",
   "execution_count": 38,
   "metadata": {},
   "outputs": [],
   "source": [
    "def form_tree_lists(root):\n",
    "    x_min=[]\n",
    "    x_max=[]\n",
    "    y_min=[]\n",
    "    y_max=[]\n",
    "\n",
    "    for xmin in root.iter('xmin'):\n",
    "        x_min.append(int(xmin.text))\n",
    "\n",
    "    for xmax in root.iter('xmax'):\n",
    "        x_max.append(int(xmax.text))\n",
    "\n",
    "    for ymin in root.iter('ymin'):\n",
    "        y_min.append(int(ymin.text))\n",
    "\n",
    "    for ymax in root.iter('ymax'):\n",
    "        y_max.append(int(ymax.text)) \n",
    "        \n",
    "    print('X-min: ', x_min)\n",
    "    print('X-max: ', x_max)\n",
    "    print('Y-min: ', y_min)\n",
    "    print('Y-max: ', y_max)\n",
    "\n",
    "    return [x_min, y_min, x_max, y_max]"
   ]
  },
  {
   "cell_type": "code",
   "execution_count": 39,
   "metadata": {},
   "outputs": [],
   "source": [
    "# form_tree_lists(image_tree[0])"
   ]
  },
  {
   "cell_type": "code",
   "execution_count": null,
   "metadata": {},
   "outputs": [],
   "source": []
  },
  {
   "cell_type": "code",
   "execution_count": 40,
   "metadata": {},
   "outputs": [],
   "source": [
    "def calculate_main_arr(root):\n",
    "    main_arr = []\n",
    "\n",
    "    for i in range(len(list(root.iter('name')))):\n",
    "        name = list(root.iter('name'))[i].text\n",
    "        xmin = int(list(root.iter('xmin'))[i].text)\n",
    "        xmax = int(list(root.iter('xmax'))[i].text)\n",
    "        ymin = int(list(root.iter('ymin'))[i].text)\n",
    "        ymax = int(list(root.iter('ymax'))[i].text)\n",
    "        main_arr.append([name, xmin, ymin, xmax, ymax])\n",
    "    return main_arr"
   ]
  },
  {
   "cell_type": "code",
   "execution_count": 41,
   "metadata": {},
   "outputs": [],
   "source": [
    "# calculate_main_arr(root)"
   ]
  },
  {
   "cell_type": "code",
   "execution_count": 42,
   "metadata": {},
   "outputs": [],
   "source": [
    "# main_arr"
   ]
  },
  {
   "cell_type": "code",
   "execution_count": 43,
   "metadata": {},
   "outputs": [],
   "source": [
    "def sort_nd_list(sub_li, element_pos): \n",
    "    l = len(sub_li) \n",
    "    for i in range(0, l): \n",
    "        for j in range(0, l-i-1): \n",
    "            if (sub_li[j][element_pos] > sub_li[j + 1][element_pos]): \n",
    "                tempo = sub_li[j] \n",
    "                sub_li[j]= sub_li[j + 1] \n",
    "                sub_li[j + 1]= tempo \n",
    "    return sub_li "
   ]
  },
  {
   "cell_type": "code",
   "execution_count": 44,
   "metadata": {},
   "outputs": [],
   "source": [
    "def find_sorted_sequence(arr, coords):\n",
    "    \n",
    "    upper_line = []\n",
    "    lower_line = []\n",
    "    \n",
    "    y_min = coords[1]\n",
    "    y_min_mean = np.mean(y_min)\n",
    "    print(\"Mean Y: \", y_min_mean)\n",
    "    \n",
    "    for i in range(len(arr)):\n",
    "        if arr[i][2] > y_min_mean:\n",
    "            lower_line.append(arr[i])\n",
    "        else:\n",
    "            upper_line.append(arr[i])\n",
    "            \n",
    "        sorted_upper = sort_nd_list(upper_line, 1)                \n",
    "        sorted_lower = sort_nd_list(lower_line, 1)\n",
    "            \n",
    "\n",
    "    print('='*20)\n",
    "    print(\"Sorted upper list: \")\n",
    "    print(sorted_upper, end=\"\\n\\n\")\n",
    "    print(\"Sorted lower list: \")\n",
    "    print(sorted_lower)\n",
    "    return [sorted_upper, sorted_lower]"
   ]
  },
  {
   "cell_type": "code",
   "execution_count": 45,
   "metadata": {},
   "outputs": [],
   "source": [
    "# upper, lower = find_sorted_sequence(main_arr, )"
   ]
  },
  {
   "cell_type": "code",
   "execution_count": 59,
   "metadata": {},
   "outputs": [],
   "source": [
    "def print_sorted_numer_plate(upper, lower):\n",
    "    print(\"\\nFINAL SORTED CHARACTERS:\")\n",
    "    for i in upper:\n",
    "        print(i[0], end=\"\")\n",
    "    for i in lower:\n",
    "        print(i[0], end=\"\")\n",
    "    print()\n",
    "    print('='*20)"
   ]
  },
  {
   "cell_type": "code",
   "execution_count": 60,
   "metadata": {},
   "outputs": [],
   "source": [
    "# print_sorted_numer_plate()"
   ]
  },
  {
   "cell_type": "code",
   "execution_count": null,
   "metadata": {},
   "outputs": [],
   "source": []
  },
  {
   "cell_type": "code",
   "execution_count": 63,
   "metadata": {},
   "outputs": [
    {
     "name": "stdout",
     "output_type": "stream",
     "text": [
      "================================================================================\n",
      "X-min:  [110, 139, 168, 197, 83, 114, 143, 172, 201, 229]\n",
      "X-max:  [137, 167, 195, 224, 114, 142, 171, 199, 227, 254]\n",
      "Y-min:  [42, 40, 40, 37, 85, 84, 82, 81, 78, 76]\n",
      "Y-max:  [79, 78, 76, 73, 119, 119, 117, 115, 114, 111]\n",
      "Mean Y:  64.5\n",
      "====================\n",
      "Sorted upper list: \n",
      "[['A', 110, 42, 137, 79], ['P', 139, 40, 167, 78], ['0', 168, 40, 195, 76], ['3', 197, 37, 224, 73]]\n",
      "\n",
      "Sorted lower list: \n",
      "[['T', 83, 85, 114, 119], ['C', 114, 84, 142, 119], ['9', 143, 82, 171, 117], ['9', 172, 81, 199, 115], ['3', 201, 78, 227, 114], ['9', 229, 76, 254, 111]]\n",
      "\n",
      "FINAL SORTED CHARACTER:\n",
      "AP03TC9939\n",
      "====================\n",
      "================================================================================\n",
      "================================================================================\n",
      "X-min:  [74, 124, 170, 213, 57, 94, 138, 169, 202, 230]\n",
      "X-max:  [121, 167, 210, 251, 92, 129, 168, 201, 229, 262]\n",
      "Y-min:  [36, 32, 30, 28, 80, 77, 76, 73, 72, 70]\n",
      "Y-max:  [75, 71, 70, 68, 122, 120, 118, 116, 114, 114]\n",
      "Mean Y:  57.4\n",
      "====================\n",
      "Sorted upper list: \n",
      "[['A', 74, 36, 121, 75], ['P', 124, 32, 167, 71], ['0', 170, 30, 210, 70], ['3', 213, 28, 251, 68]]\n",
      "\n",
      "Sorted lower list: \n",
      "[['T', 57, 80, 92, 122], ['E', 94, 77, 129, 120], ['2', 138, 76, 168, 118], ['2', 169, 73, 201, 116], ['1', 202, 72, 229, 114], ['9', 230, 70, 262, 114]]\n",
      "\n",
      "FINAL SORTED CHARACTER:\n",
      "AP03TE2219\n",
      "====================\n",
      "================================================================================\n",
      "================================================================================\n",
      "X-min:  [32, 66, 100, 127, 156, 189, 215, 239, 264]\n",
      "X-max:  [64, 93, 127, 153, 186, 214, 238, 263, 291]\n",
      "Y-min:  [56, 55, 53, 53, 50, 48, 47, 45, 43]\n",
      "Y-max:  [110, 109, 107, 105, 103, 101, 100, 97, 95]\n",
      "Mean Y:  50.0\n",
      "====================\n",
      "Sorted upper list: \n",
      "[['V', 156, 50, 186, 103], ['5', 189, 48, 214, 101], ['2', 215, 47, 238, 100], ['2', 239, 45, 263, 97], ['2', 264, 43, 291, 95]]\n",
      "\n",
      "Sorted lower list: \n",
      "[['A', 32, 56, 64, 110], ['P', 66, 55, 93, 109], ['0', 100, 53, 127, 107], ['4', 127, 53, 153, 105]]\n",
      "\n",
      "FINAL SORTED CHARACTER:\n",
      "V5222AP04\n",
      "====================\n",
      "================================================================================\n",
      "================================================================================\n",
      "X-min:  [83, 133, 172, 213, 38, 81, 134, 184, 229]\n",
      "X-max:  [128, 173, 213, 254, 73, 133, 181, 229, 281]\n",
      "Y-min:  [23, 22, 20, 18, 93, 85, 82, 80, 79]\n",
      "Y-max:  [68, 64, 66, 66, 138, 137, 134, 133, 132]\n",
      "Mean Y:  55.77777777777778\n",
      "====================\n",
      "Sorted upper list: \n",
      "[['A', 83, 23, 128, 68], ['P', 133, 22, 173, 64], ['3', 172, 20, 213, 66], ['5', 213, 18, 254, 66]]\n",
      "\n",
      "Sorted lower list: \n",
      "[['X', 38, 93, 73, 138], ['9', 81, 85, 133, 137], ['3', 134, 82, 181, 134], ['3', 184, 80, 229, 133], ['9', 229, 79, 281, 132]]\n",
      "\n",
      "FINAL SORTED CHARACTER:\n",
      "AP35X9339\n",
      "====================\n",
      "================================================================================\n",
      "================================================================================\n",
      "X-min:  [45, 84, 145, 174, 228, 38, 104, 168, 230]\n",
      "X-max:  [82, 128, 174, 216, 276, 101, 164, 229, 277]\n",
      "Y-min:  [28, 26, 24, 22, 18, 80, 75, 71, 70]\n",
      "Y-max:  [70, 69, 64, 64, 61, 124, 124, 121, 121]\n",
      "Mean Y:  46.0\n",
      "====================\n",
      "Sorted upper list: \n",
      "[['J', 45, 28, 82, 70], ['H', 84, 26, 128, 69], ['1', 145, 24, 174, 64], ['2', 174, 22, 216, 64], ['G', 228, 18, 276, 61]]\n",
      "\n",
      "Sorted lower list: \n",
      "[['9', 38, 80, 101, 124], ['5', 104, 75, 164, 124], ['6', 168, 71, 229, 121], ['1', 230, 70, 277, 121]]\n",
      "\n",
      "FINAL SORTED CHARACTER:\n",
      "JH12G9561\n",
      "====================\n",
      "================================================================================\n"
     ]
    }
   ],
   "source": [
    "for i in image_list:\n",
    "    print('='*80)\n",
    "    root = form_image_tree(i)\n",
    "    coord_list = form_tree_lists(root)\n",
    "    main_list = calculate_main_arr(root)\n",
    "    upper, lower = find_sorted_sequence(main_list, coord_list)\n",
    "    print_sorted_numer_plate(upper, lower)\n",
    "    print('='*80)"
   ]
  },
  {
   "cell_type": "markdown",
   "metadata": {},
   "source": [
    "### end"
   ]
  },
  {
   "cell_type": "markdown",
   "metadata": {},
   "source": [
    "<hr><hr><hr>"
   ]
  },
  {
   "cell_type": "markdown",
   "metadata": {},
   "source": [
    "### Image Detection (not used here)"
   ]
  },
  {
   "cell_type": "code",
   "execution_count": 17,
   "metadata": {},
   "outputs": [],
   "source": [
    "# !pip install --upgrade google-cloud-vision"
   ]
  },
  {
   "cell_type": "code",
   "execution_count": 18,
   "metadata": {},
   "outputs": [],
   "source": [
    "# import os\n",
    "# os.environ[\"GOOGLE_APPLICATION_CREDENTIALS\"]=\"D:/main_jupyter_workspace/tarsyer/gcp_key.json\""
   ]
  },
  {
   "cell_type": "code",
   "execution_count": 19,
   "metadata": {},
   "outputs": [],
   "source": [
    "# from google.cloud import vision\n",
    "# from google.cloud.vision import types\n",
    "# import re"
   ]
  },
  {
   "cell_type": "code",
   "execution_count": 20,
   "metadata": {},
   "outputs": [],
   "source": [
    "# pt.pytesseract.tesseract_cmd = r'C:\\Program Files\\Tesseract-OCR\\tesseract.exe'"
   ]
  },
  {
   "cell_type": "code",
   "execution_count": 21,
   "metadata": {},
   "outputs": [],
   "source": [
    "# im = Image.open(\"./char_detection/AP03TC9939.jpg\")\n",
    "# im2 = im.crop(main_arr[1][1:])\n",
    "# pppp = np.array(im2)\n",
    "\n",
    "# img = Image.fromarray(pppp)\n",
    "# img.show()\n",
    "\n",
    "# print(np.array(im2))\n",
    "# im2.save('c1.jpg', 'JPEG')"
   ]
  },
  {
   "cell_type": "code",
   "execution_count": 22,
   "metadata": {},
   "outputs": [],
   "source": [
    "# client = vision.ImageAnnotatorClient()\n",
    "# image = vision.types.Image()\n",
    "\n",
    "\n",
    "# def extract_text(file_name):\n",
    "#     folder_path = 'D:/main_jupyter_workspace/tarsyer'\n",
    "#     with io.open(os.path.join(folder_path, file_name), 'rb') as img_file:\n",
    "#         content = img_file.read()\n",
    "        \n",
    "#     img = vision.types.Image(content=content)\n",
    "#     response = client.text_detection(image=img)\n",
    "    \n",
    "#     label = response.text_annotations[0].description\n",
    "#     return str(label)"
   ]
  },
  {
   "cell_type": "code",
   "execution_count": 23,
   "metadata": {},
   "outputs": [],
   "source": [
    "# images_names = ['c1.jpg']\n",
    "# response_arr = []\n",
    "# for img in images_names:\n",
    "#     response_arr.append(extract_text(img))\n",
    "    \n",
    "# num_plate_str = response_arr[0]\n",
    "# print(re.sub(r\"\\W\", \"\", num_plate_str))"
   ]
  },
  {
   "cell_type": "code",
   "execution_count": 24,
   "metadata": {},
   "outputs": [],
   "source": [
    "# def find_text(img): \n",
    "#     text=pytesseract.image_to_string(img, config=\"--psm 6\")\n",
    "#     print(text)\n",
    "#     gray = cv2.cvtColor(img, cv2.COLOR_RGB2GRAY)\n",
    "#     gray = cv2.bitwise_not(gray)\n",
    "\n",
    "#     kernel = np.ones((2, 1), np.uint8)\n",
    "#     img = cv2.erode(img, kernel, iterations=1)\n",
    "#     img = cv2.dilate(img, kernel, iterations=1)\n",
    "#     out_below = pytesseract.image_to_string(img, config=\"--psm 6\")\n",
    "#     print(\"-\"*20)\n",
    "#     print(\"OUTPUT:\", out_below)\n",
    "#     img = Image.fromarray(img)\n",
    "#     img.show()"
   ]
  },
  {
   "cell_type": "code",
   "execution_count": 25,
   "metadata": {},
   "outputs": [],
   "source": [
    "# img=cv2.imread('c1.jpg')\n",
    "# find_text(pppp)"
   ]
  }
 ],
 "metadata": {
  "kernelspec": {
   "display_name": "Python 3",
   "language": "python",
   "name": "python3"
  },
  "language_info": {
   "codemirror_mode": {
    "name": "ipython",
    "version": 3
   },
   "file_extension": ".py",
   "mimetype": "text/x-python",
   "name": "python",
   "nbconvert_exporter": "python",
   "pygments_lexer": "ipython3",
   "version": "3.7.3"
  }
 },
 "nbformat": 4,
 "nbformat_minor": 2
}
